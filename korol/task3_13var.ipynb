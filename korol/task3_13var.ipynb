{
 "cells": [
  {
   "cell_type": "code",
   "execution_count": null,
   "metadata": {},
   "outputs": [],
   "source": [
    "import sys, ROOT\n",
    "from ROOT import gRandom, TCanvas, TFormula, TF1,TF2, TH1F, TH2F, TStopwatch\n",
    "from tqdm import tqdm_notebook as tqdm\n",
    "import numpy as np\n",
    "\n",
    "ax = 0\n",
    "bx = 0.7\n",
    "ay = 2\n",
    "by = 3\n",
    "expect = 7.4523\n",
    "\n",
    "def f(x, p): return np.exp(x[0]+x[1])/(1+x[1]*np.sqrt(x[0])/2)"
   ]
  },
  {
   "cell_type": "code",
   "execution_count": null,
   "metadata": {},
   "outputs": [],
   "source": [
    "h2 = TH2F('h2', 'histogram tytle', 100, 0, 0.7, 100, 2, 3);\n",
    "for i in range(100):\n",
    "    for j in range(100):\n",
    "        for _ in range(int(f([0.001+0.7*i/100.0, 2.0+j/100.0],[]))):\n",
    "            h2.Fill(0.001+0.7*i/100.0, 2+j/100.0);\n",
    "\n",
    "c = ROOT.TCanvas(\"myCanvasName\",\"The Canvas Title\", 1200, 500)\n",
    "h2.Draw('lego')\n",
    "c.Draw();"
   ]
  },
  {
   "cell_type": "code",
   "execution_count": null,
   "metadata": {},
   "outputs": [],
   "source": [
    "c = ROOT.TCanvas(\"myCanvasName\",\"The Canvas Title\", 1200, 500)\n",
    "ff = TF2(\"ff2\", f, 0.0, 0.7, 2, 3, 1)\n",
    "ff.SetNpx(100)\n",
    "ff.Draw(\"colz\")\n",
    "c.Draw();"
   ]
  },
  {
   "cell_type": "code",
   "execution_count": null,
   "metadata": {},
   "outputs": [],
   "source": [
    "N_ = 10000\n",
    "temp = 1000\n",
    "\n",
    "integral = 0\n",
    "std = 0\n",
    "cur = 0\n",
    "cur_std = 0\n",
    "arr = np.zeros(N_)\n",
    "\n",
    "print('N,      integral,             std,                 current,      current std')\n",
    "for N in range (1, N_+1):\n",
    "    if (N%temp==0):\n",
    "        std = np.sqrt((np.mean(arr[:N]**2)-np.mean(arr[:N])**2)/N)\n",
    "        cur_std = np.sqrt((np.mean(arr[N-temp:N]**2)-np.mean(arr[N-temp:N])**2)/temp)\n",
    "        print(N, integral/N, std, cur/temp, cur_std)\n",
    "        cur = 0\n",
    "        \n",
    "    sample_x = gRandom.Uniform(ax, bx)\n",
    "    sample_y = gRandom.Uniform(ay, by)\n",
    "    sample = (bx-ax)*(by-ay)*f([sample_x, sample_y], 0)\n",
    "    integral += sample\n",
    "    cur += sample\n",
    "    arr[N-1] = f([sample_x, sample_y], 0)*((bx-ax)*(by-ay))"
   ]
  },
  {
   "cell_type": "code",
   "execution_count": null,
   "metadata": {},
   "outputs": [],
   "source": [
    "def f_2(x, p): return np.exp(x[0]+x[1])/(1+x[1]*np.sqrt(x[0])/2)-10*x[1]"
   ]
  },
  {
   "cell_type": "code",
   "execution_count": null,
   "metadata": {},
   "outputs": [],
   "source": [
    "c = ROOT.TCanvas(\"myCanvasName\",\"The Canvas Title\", 1200, 500)\n",
    "ff = TF2(\"ff2_3\", f_2, 0.0, 0.7, 2, 3, 1)\n",
    "ff.SetNpx(100)\n",
    "ff.Draw(\"colz\")\n",
    "c.Draw();"
   ]
  },
  {
   "cell_type": "code",
   "execution_count": null,
   "metadata": {},
   "outputs": [],
   "source": [
    "N_ = 10000\n",
    "temp = 1000\n",
    "\n",
    "analitic = (bx-ax)*(by-ay)*10/2*(by*by-ay*ay)\n",
    "integral = 0\n",
    "std = 0\n",
    "cur = 0\n",
    "cur_std = 0\n",
    "arr = np.zeros(N_)\n",
    "\n",
    "print('N,      integral,             std,                 current,      current std')\n",
    "for N in range (1, N_+1):\n",
    "    if (N%temp==0):\n",
    "        std = np.sqrt((np.mean(arr[:N]**2)-np.mean(arr[:N])**2)/N)\n",
    "        cur_std = np.sqrt((np.mean(arr[N-temp:N]**2)-np.mean(arr[N-temp:N])**2)/temp)\n",
    "        print(N, integral/N+analitic, std, cur/temp+analitic, cur_std)\n",
    "        cur = 0\n",
    "        \n",
    "    sample_x = gRandom.Uniform(ax, bx)\n",
    "    sample_y = gRandom.Uniform(ay, by)\n",
    "    sample = (bx-ax)*(by-ay)*f_2([sample_x, sample_y], 0)\n",
    "    integral += sample\n",
    "    cur += sample\n",
    "    arr[N-1] = f_2([sample_x, sample_y], 0)*((bx-ax)*(by-ay))"
   ]
  },
  {
   "cell_type": "code",
   "execution_count": null,
   "metadata": {},
   "outputs": [],
   "source": [
    "analitic"
   ]
  },
  {
   "cell_type": "code",
   "execution_count": null,
   "metadata": {},
   "outputs": [],
   "source": []
  }
 ],
 "metadata": {
  "kernelspec": {
   "display_name": "Python 2",
   "language": "python",
   "name": "python2"
  },
  "language_info": {
   "codemirror_mode": {
    "name": "ipython",
    "version": 2
   },
   "file_extension": ".py",
   "mimetype": "text/x-python",
   "name": "python",
   "nbconvert_exporter": "python",
   "pygments_lexer": "ipython2",
   "version": "2.7.15rc1"
  }
 },
 "nbformat": 4,
 "nbformat_minor": 2
}
