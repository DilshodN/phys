{
 "cells": [
  {
   "cell_type": "code",
   "execution_count": null,
   "metadata": {},
   "outputs": [],
   "source": [
    "import ROOT\n",
    "import warnings\n",
    "warnings.filterwarnings('ignore')"
   ]
  },
  {
   "cell_type": "code",
   "execution_count": null,
   "metadata": {},
   "outputs": [],
   "source": [
    "import ROOT\n",
    "\n",
    "def func( xx , pp ):\n",
    "    A = pp[0]\n",
    "    G = pp[1]\n",
    "    M = pp[2]\n",
    "    E = xx[0]\n",
    "    return A*((G*1.0/2)**2)/(((E-M)**2)+((G*1.0/2)**2))\n",
    "\n",
    "f = ROOT.TF1( \"func\", func, 0.5, 1, 3)\n",
    "\n",
    "A0=680\n",
    "M0=1.02\n",
    "G0=0.005\n",
    "\n",
    "gr = ROOT.TGraphErrors( \"variant1.txt\" )\n",
    "f.SetParameter(0, A0)\n",
    "f.SetParameter(1, G0)\n",
    "f.SetParameter(2, M0)\n",
    "\n",
    "r = gr.Fit( f, \"SQ\" )\n",
    "r.Print()\n",
    "\n",
    "print \"Chi2/ndf:\", r.Chi2()/r.Ndf()\n",
    "print ROOT.TMath.Prob(r.Chi2(), r.Ndf())\n",
    "\n",
    "c1 = ROOT.TCanvas( 'c1', 'c1', 200, 10, 700, 500 )\n",
    "gr.Draw(\"AP\")\n",
    "c1.Update()\n",
    "\n",
    "c1.Draw()"
   ]
  },
  {
   "cell_type": "code",
   "execution_count": null,
   "metadata": {},
   "outputs": [],
   "source": [
    "c = r.GetCorrelationMatrix()"
   ]
  },
  {
   "cell_type": "code",
   "execution_count": null,
   "metadata": {},
   "outputs": [],
   "source": [
    "type(c)\n",
    "for i in range(3):\n",
    "    print ''\n",
    "    for j in range(3):\n",
    "        print c(i, j),"
   ]
  },
  {
   "cell_type": "code",
   "execution_count": null,
   "metadata": {},
   "outputs": [],
   "source": [
    "hAV = ROOT.TH1F(\"A4\",\"A\", 100, 620, 670)\n",
    "hGV = ROOT.TH1F(\"G4\",\"G\", 100, 0.0045, 0.0049)\n",
    "hMV = ROOT.TH1F(\"M4\",\"M\", 100, 0., 0.)\n",
    "\n",
    "de = 0.01\n",
    "E0 = 1.02\n",
    "\n",
    "for i in range(1000):\n",
    "    gr1=ROOT.TGraphErrors(gr)\n",
    "    for j in range(gr.GetN()):\n",
    "        r=ROOT.gRandom.Gaus(0, gr.GetY()[j]*de*gr.GetX()[j]/E0) \n",
    "        gr1.SetPoint(j, gr.GetX()[j], gr.GetY()[j]+r)\n",
    "    r=gr1.Fit(f,\"SQ\")\n",
    "    r1=r.Value(0)\n",
    "    r2=r.Value(1)\n",
    "    r3=r.Value(2)\n",
    "    hAV.Fill(r1)\n",
    "    hGV.Fill(r2)\n",
    "    hMV.Fill(r3)\n",
    "    \n",
    "dE = 0.0001\n",
    "\n",
    "hAH = ROOT.TH1F(\"A5\",\"A\", 100, 644.642, 644.654)\n",
    "hGH = ROOT.TH1F(\"G5\",\"G\", 100, 0.0046934, 0.0046937)\n",
    "hMH = ROOT.TH1F(\"M5\",\"M\", 100, 1.018, 1.019)\n",
    "    \n",
    "for i in range(1000):\n",
    "    gr1=ROOT.TGraphErrors(gr)\n",
    "    r=ROOT.gRandom.Gaus(0 , dE) \n",
    "    for j in range(gr.GetN()):\n",
    "        gr1.SetPoint(j, gr.GetX()[j]+r, gr.GetY()[j])\n",
    "    r=gr1.Fit(f,\"SQ\")\n",
    "    r1=r.Value(0)\n",
    "    r2=r.Value(1)\n",
    "    r3=r.Value(2)\n",
    "    hAH.Fill(r1)\n",
    "    hGH.Fill(r2)\n",
    "    hMH.Fill(r3)\n",
    "\n",
    "c2 = ROOT.TCanvas( 'c2', 'c22', 400, 200, 1200, 800 )\n",
    "c2.Divide(3, 2)\n",
    "c2.cd(1)\n",
    "hAH.Draw()\n",
    "c2.cd(2)\n",
    "hGH.Draw()\n",
    "c2.cd(3)\n",
    "hMH.Draw()\n",
    "c2.cd(4)\n",
    "hAV.Draw()\n",
    "c2.cd(5)\n",
    "hGV.Draw()\n",
    "c2.cd(6)\n",
    "hMV.Draw()\n",
    "\n",
    "c2.Update()\n",
    "\n",
    "c2.Draw()"
   ]
  },
  {
   "cell_type": "code",
   "execution_count": null,
   "metadata": {},
   "outputs": [],
   "source": [
    "A = 644.7\n",
    "G = 0.004694\n",
    "M = 1.019"
   ]
  },
  {
   "cell_type": "code",
   "execution_count": 18,
   "metadata": {},
   "outputs": [],
   "source": [
    "d1 = (0.01/1.02)*A/2\n",
    "d2 = (0.01/1.02)*A\n",
    "d3 = (0.01/1.02)*A/2"
   ]
  },
  {
   "cell_type": "code",
   "execution_count": null,
   "metadata": {},
   "outputs": [],
   "source": [
    "dM=G*G/64/A/A*(d1**2+d3**2)\n",
    "dM**(1.0/2)"
   ]
  },
  {
   "cell_type": "code",
   "execution_count": null,
   "metadata": {},
   "outputs": [],
   "source": [
    "dG=G*G/A/A*(d1**2+d2**2+d3**2)\n",
    "dG**(1.0/2)"
   ]
  },
  {
   "cell_type": "code",
   "execution_count": null,
   "metadata": {},
   "outputs": [],
   "source": [
    "dA=(d1**2+d2**2)\n",
    "dA**(1.0/2)"
   ]
  },
  {
   "cell_type": "code",
   "execution_count": null,
   "metadata": {},
   "outputs": [],
   "source": []
  }
 ],
 "metadata": {
  "kernelspec": {
   "display_name": "Python 2",
   "language": "python",
   "name": "python2"
  },
  "language_info": {
   "codemirror_mode": {
    "name": "ipython",
    "version": 2
   },
   "file_extension": ".py",
   "mimetype": "text/x-python",
   "name": "python",
   "nbconvert_exporter": "python",
   "pygments_lexer": "ipython2",
   "version": "2.7.15rc1"
  }
 },
 "nbformat": 4,
 "nbformat_minor": 2
}
