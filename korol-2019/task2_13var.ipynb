{
 "cells": [
  {
   "cell_type": "code",
   "execution_count": 6,
   "metadata": {},
   "outputs": [],
   "source": [
    "import warnings\n",
    "warnings.filterwarnings(\"ignore\")\n",
    "from IPython.display import clear_output\n",
    "clear_output(wait=True)"
   ]
  },
  {
   "cell_type": "code",
   "execution_count": null,
   "metadata": {},
   "outputs": [],
   "source": [
    "import sys, ROOT\n",
    "from ROOT import gRandom, TCanvas, TFormula, TF1, TH1F, TStopwatch\n",
    "from tqdm import tqdm_notebook as tqdm\n",
    "\n",
    "a = -2\n",
    "b = 2\n",
    "norm = 1\n",
    "\n",
    "def f(x, p): return ((1+(x[0])**2)/(0.001+(x[0])**2))/p[0]\n",
    "\n",
    "def fnneuman(norm, a, b):\n",
    "    fmax = f([ 0 ], [norm])\n",
    "    while True:\n",
    "        mu = gRandom.Uniform(0, fmax)\n",
    "        r = gRandom.Uniform(a, b)\n",
    "        if mu<=f( [ r ], [norm] ): return r\n",
    "\n",
    "from math import tan, sqrt, atan\n",
    "d = sqrt(0.001)\n",
    "def invF(x): return d*tan(d*x*(2*atan(2/d)/d)-atan(2/d))\n",
    "def g(x): return 1+x**2\n",
    "def method2():\n",
    "    fmax = g(b)\n",
    "    while True:\n",
    "        r = invF(gRandom.Uniform(0,1))\n",
    "        nu = gRandom.Uniform(0, fmax)\n",
    "        if (nu < g(r)):\n",
    "            return r"
   ]
  },
  {
   "cell_type": "code",
   "execution_count": null,
   "metadata": {},
   "outputs": [],
   "source": [
    "c = ROOT.TCanvas(\"myCanvasName\",\"The Canvas Title\", 1200, 500)\n",
    "ff = TF1(\"ff1\", f, -2, 2, 1)\n",
    "ff.SetNpx(10000)\n",
    "ff.SetParameter(0, norm);\n",
    "ff.Draw()\n",
    "c.Draw();"
   ]
  },
  {
   "cell_type": "code",
   "execution_count": null,
   "metadata": {},
   "outputs": [],
   "source": [
    "c = ROOT.TCanvas(\"myCanvasName\",\"The Canvas Title\", 1200, 500)\n",
    "ff = TF1(\"ff1\", f, -2, 2, 1)\n",
    "ff.SetNpx(10000)\n",
    "ff.SetParameter(0, norm);\n",
    "h1 = TH1F(\"h1\", \"fnneuman method\", 500, -2, 2)\n",
    "for i in tqdm(range(0, 10000)):\n",
    "    h1.Fill(fnneuman(norm, a, b))\n",
    "h1.Draw();\n",
    "h1.Fit(ff);\n",
    "c.Draw();"
   ]
  },
  {
   "cell_type": "code",
   "execution_count": null,
   "metadata": {},
   "outputs": [],
   "source": [
    "c = ROOT.TCanvas(\"myCanvasName2\",\"The Canvas Title\", 1200, 500)\n",
    "ff2 = TF1(\"ff2\", f, -2, 2, 1);\n",
    "ff2.SetNpx(10000)\n",
    "ff2.SetParameter(0, norm);\n",
    "h2 = TH1F(\"h2\", \"Second method\", 500, -2, 2)\n",
    "\n",
    "for i in tqdm(range(0, 10000)):\n",
    "    h2.Fill(method2())\n",
    "h2.Draw();\n",
    "h2.Fit(ff2);\n",
    "c.Draw();"
   ]
  },
  {
   "cell_type": "code",
   "execution_count": null,
   "metadata": {},
   "outputs": [],
   "source": []
  },
  {
   "cell_type": "code",
   "execution_count": null,
   "metadata": {},
   "outputs": [],
   "source": []
  },
  {
   "cell_type": "code",
   "execution_count": null,
   "metadata": {},
   "outputs": [],
   "source": []
  }
 ],
 "metadata": {
  "kernelspec": {
   "display_name": "Python 2",
   "language": "python",
   "name": "python2"
  },
  "language_info": {
   "codemirror_mode": {
    "name": "ipython",
    "version": 2
   },
   "file_extension": ".py",
   "mimetype": "text/x-python",
   "name": "python",
   "nbconvert_exporter": "python",
   "pygments_lexer": "ipython2",
   "version": "2.7.15rc1"
  }
 },
 "nbformat": 4,
 "nbformat_minor": 2
}
